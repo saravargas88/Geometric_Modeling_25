{
 "cells": [
  {
   "cell_type": "code",
   "execution_count": 17,
   "id": "a5e1bd74-9d15-487e-acf7-9babc330908c",
   "metadata": {},
   "outputs": [],
   "source": [
    "import numpy as np\n",
    "import igl\n",
    "import meshplot as mp\n",
    "from scipy.spatial.transform import Rotation\n",
    "import scipy\n",
    "import ipywidgets as iw\n",
    "import time\n",
    "import scipy.sparse as sp\n",
    "\n",
    "\n"
   ]
  },
  {
   "cell_type": "markdown",
   "id": "bcc13311-98a2-471b-9501-58c61459a9e5",
   "metadata": {},
   "source": [
    "## Assignment 5:\n",
    "\n",
    "I have implemented the steps for multiresolutional mesh editing in 2 separate files. \n",
    "- `mesh_deformer.py` has regular **regular sparse solving** (`spsolve`)\n",
    "- `cholesky_mesh_deformer.py`   using **Cholesky factorization**\n",
    "\n",
    "## **Step 1: Surface Smoothing**\n",
    "\n",
    "`extract_smooth_surface`\n",
    "  - Minimize thin plate energy  v^T L_w M_inverse L_w v  subject to the constraints\n",
    "  - Solve linear system : either using Cholesky factorization for high efficiency or directly solving for each coordinate sp.solve(Aff,rhs)\n",
    "  - Smoothed surface B is made\n",
    "\n",
    "## **Step 2: Deformation on Smoothed Surface**\n",
    "  - handle deformations are applied to B'\n",
    "  - The free vertices are recomputed to smoothly accommodate the new handle positions.\n",
    "  - Deformation maintains global smoothness \n",
    "-**Implementation**:\n",
    "  - System matrices (`Aff`, `Afc`) are reused.\n",
    "  - Solve for new free vertex positions based on updated handles.\n",
    "\n",
    "## **Step 3: Detail Preservation**\n",
    "\n",
    "`extract_details`, `apply_details`\n",
    "\n",
    "  - Fine geometric details (small displacements) are **extracted** from the original mesh.\n",
    "  - Details are stored in the **local orthonormal frames** at each vertex.\n",
    "  - After deformation, the stored fine details are **reapplied** to the deformed smoothed surface to reconstruct the final detailed mesh.\n",
    "- **Implementation**:\n",
    "  - Local frames  computed per vertex\n",
    "  - Displacements  projected onto the frames to extract detail coefficients a1 a2 a3\n",
    "  - After deformation, coefficients are re-projected onto new frames\n",
    "\n"
   ]
  },
  {
   "cell_type": "code",
   "execution_count": 26,
   "id": "b4d56282-b27e-4b32-a5f9-e3e012e1528e",
   "metadata": {},
   "outputs": [],
   "source": [
    "import importlib\n",
    "import mesh_deformer\n",
    "importlib.reload(mesh_deformer)\n",
    "from mesh_deformer import mesh_deformer\n",
    "\n",
    "import cholesky_mesh_deformer\n",
    "importlib.reload(cholesky_mesh_deformer)\n",
    "from cholesky_mesh_deformer import cholesky_mesh_deformer"
   ]
  },
  {
   "cell_type": "code",
   "execution_count": 27,
   "id": "6c31607f-89f7-4b92-9822-a1bfdd259e0d",
   "metadata": {},
   "outputs": [
    {
     "data": {
      "application/vnd.jupyter.widget-view+json": {
       "model_id": "edf611f30c934d90aaeac5bd43f9c992",
       "version_major": 2,
       "version_minor": 0
      },
      "text/plain": [
       "Renderer(camera=PerspectiveCamera(children=(DirectionalLight(color='white', intensity=0.6, position=(0.5, 0.19…"
      ]
     },
     "metadata": {},
     "output_type": "display_data"
    },
    {
     "data": {
      "application/vnd.jupyter.widget-view+json": {
       "model_id": "cdae02d351904790b2f043a41eb27386",
       "version_major": 2,
       "version_minor": 0
      },
      "text/plain": [
       "interactive(children=(Dropdown(description='s', options=(1, 2, 3, 4), value=1), FloatSlider(value=0.0, descrip…"
      ]
     },
     "metadata": {},
     "output_type": "display_data"
    },
    {
     "data": {
      "text/plain": [
       "<function __main__.pos_f(s, x, y, z, α, β, γ)>"
      ]
     },
     "execution_count": 27,
     "metadata": {},
     "output_type": "execute_result"
    }
   ],
   "source": [
    "'''Using Mesh Deformer without Cholesky'''\n",
    "\n",
    "\n",
    "v, f = igl.read_triangle_mesh('data/hand.off')\n",
    "labels = np.load('data/hand.label.npy').astype(int)\n",
    "v -= v.min(axis=0)\n",
    "v /= v.max()\n",
    "\n",
    "deformer = mesh_deformer(v, f, labels)\n",
    "B = deformer.extract_smooth_surface(v)\n",
    "a1, a2, a3 = deformer.encode_details(v, B)\n",
    "\n",
    "def position_deformer(target_pos):\n",
    "    Bprime = deformer.extract_smooth_surface(target_pos)\n",
    "    \n",
    "    Sprime = deformer.apply_details(Bprime, a1, a2, a3)\n",
    "\n",
    "    return Sprime\n",
    "\n",
    "#-------------------------------------------------------\n",
    "\n",
    "handle_vertex_positions = v.copy()\n",
    "pos_f_saver = np.zeros((labels.max() + 1, 6))\n",
    "\n",
    "def pos_f(s,x,y,z, α, β, γ):\n",
    "    slices = (labels==s)\n",
    "    r = Rotation.from_euler('xyz', [α, β, γ], degrees=True)\n",
    "    displacement = np.array([[x,y,z]])\n",
    "    v_slice = v[slices] + displacement;\n",
    "    center = v_slice.mean(axis=0)\n",
    "    handle_vertex_positions[slices] = r.apply(v_slice - center) + center\n",
    "    pos_f_saver[s - 1] = [x,y,z,α,β,γ]\n",
    "    t0 = time.time()\n",
    "    v_deformed = pos_f.deformer(handle_vertex_positions)\n",
    "    p.update_object(vertices = v_deformed)\n",
    "    t1 = time.time()\n",
    "    print('FPS', 1/(t1 - t0))\n",
    "pos_f.deformer = lambda x:x\n",
    "\n",
    "pos_f.deformer = position_deformer\n",
    "\n",
    "p = mp.plot(handle_vertex_positions, f, c=labels)\n",
    "\n",
    "def widgets_wrapper():\n",
    "    segment_widget = iw.Dropdown(options=np.arange(labels.max()) + 1)\n",
    "    translate_widget = {i: iw.FloatSlider(min=-1, max=1, value=0) for i in 'xyz'}\n",
    "    rotate_widget = {a: iw.FloatSlider(min=-90, max=90, value=0, step=1) for a in 'αβγ'}\n",
    "\n",
    "    def update_seg(*args):\n",
    "        (translate_widget['x'].value,\n",
    "         translate_widget['y'].value,\n",
    "         translate_widget['z'].value,\n",
    "         rotate_widget['α'].value,\n",
    "         rotate_widget['β'].value,\n",
    "         rotate_widget['γ'].value) = pos_f_saver[segment_widget.value - 1]\n",
    "\n",
    "    segment_widget.observe(update_seg, 'value')\n",
    "    widgets_dict = dict(s=segment_widget)\n",
    "    widgets_dict.update(translate_widget)\n",
    "    widgets_dict.update(rotate_widget)\n",
    "    return widgets_dict\n",
    "\n",
    "iw.interact(pos_f, **widgets_wrapper())\n",
    "\n"
   ]
  },
  {
   "cell_type": "code",
   "execution_count": 20,
   "id": "49b22500-315b-4ddf-89da-b254c89b153c",
   "metadata": {},
   "outputs": [
    {
     "data": {
      "application/vnd.jupyter.widget-view+json": {
       "model_id": "221e2e1307e84785ad36902432bfc620",
       "version_major": 2,
       "version_minor": 0
      },
      "text/plain": [
       "Renderer(camera=PerspectiveCamera(children=(DirectionalLight(color='white', intensity=0.6, position=(0.5, 0.19…"
      ]
     },
     "metadata": {},
     "output_type": "display_data"
    },
    {
     "data": {
      "application/vnd.jupyter.widget-view+json": {
       "model_id": "2d50b4214a264ef9927f5bc56e71ebf5",
       "version_major": 2,
       "version_minor": 0
      },
      "text/plain": [
       "interactive(children=(Dropdown(description='s', options=(1, 2, 3, 4), value=1), FloatSlider(value=0.0, descrip…"
      ]
     },
     "metadata": {},
     "output_type": "display_data"
    },
    {
     "data": {
      "text/plain": [
       "<function __main__.pos_f(s, x, y, z, α, β, γ)>"
      ]
     },
     "execution_count": 20,
     "metadata": {},
     "output_type": "execute_result"
    }
   ],
   "source": [
    "v, f = igl.read_triangle_mesh('data/hand.off')\n",
    "labels = np.load('data/hand.label.npy').astype(int)\n",
    "v -= v.min(axis=0)\n",
    "v /= v.max()\n",
    "\n",
    "cholesky_deformer =  cholesky_mesh_deformer(v, f, labels)\n",
    "B = cholesky_deformer.extract_smooth_surface(v)\n",
    "a1, a2, a3 = cholesky_deformer.encode_details(v, B)\n",
    "\n",
    "\n",
    "def position_deformer(target_pos):\n",
    "    Bprime = cholesky_deformer.extract_smooth_surface(target_pos)\n",
    "    \n",
    "    Sprime = cholesky_deformer.apply_details(Bprime, a1, a2, a3)\n",
    "\n",
    "    return Sprime\n",
    "\n",
    "\n",
    "#-------------------------------------------------\n",
    "handle_vertex_positions = v.copy()\n",
    "pos_f_saver = np.zeros((labels.max() + 1, 6))\n",
    "\n",
    "def pos_f(s,x,y,z, α, β, γ):\n",
    "    slices = (labels==s)\n",
    "    r = Rotation.from_euler('xyz', [α, β, γ], degrees=True)\n",
    "    displacement = np.array([[x,y,z]])\n",
    "    v_slice = v[slices] + displacement;\n",
    "    center = v_slice.mean(axis=0)\n",
    "    handle_vertex_positions[slices] = r.apply(v_slice - center) + center\n",
    "    pos_f_saver[s - 1] = [x,y,z,α,β,γ]\n",
    "    t0 = time.time()\n",
    "    v_deformed = pos_f.deformer(handle_vertex_positions)\n",
    "    p.update_object(vertices = v_deformed)\n",
    "    t1 = time.time()\n",
    "    print('FPS', 1/(t1 - t0))\n",
    "pos_f.deformer = lambda x:x\n",
    "\n",
    "pos_f.deformer = position_deformer\n",
    "\n",
    "p = mp.plot(handle_vertex_positions, f, c=labels)\n",
    "\n",
    "def widgets_wrapper():\n",
    "    segment_widget = iw.Dropdown(options=np.arange(labels.max()) + 1)\n",
    "    translate_widget = {i: iw.FloatSlider(min=-1, max=1, value=0) for i in 'xyz'}\n",
    "    rotate_widget = {a: iw.FloatSlider(min=-90, max=90, value=0, step=1) for a in 'αβγ'}\n",
    "\n",
    "    def update_seg(*args):\n",
    "        (translate_widget['x'].value,\n",
    "         translate_widget['y'].value,\n",
    "         translate_widget['z'].value,\n",
    "         rotate_widget['α'].value,\n",
    "         rotate_widget['β'].value,\n",
    "         rotate_widget['γ'].value) = pos_f_saver[segment_widget.value - 1]\n",
    "\n",
    "    segment_widget.observe(update_seg, 'value')\n",
    "    widgets_dict = dict(s=segment_widget)\n",
    "    widgets_dict.update(translate_widget)\n",
    "    widgets_dict.update(rotate_widget)\n",
    "    return widgets_dict\n",
    "\n",
    "iw.interact(pos_f, **widgets_wrapper())\n",
    "\n"
   ]
  },
  {
   "cell_type": "markdown",
   "id": "2295ac07-abce-4c53-8f19-0fb99f77842d",
   "metadata": {},
   "source": [
    "### With Cholesky we can see the rendering of the movement of the handles is faster than that of solving a normal \n",
    "\n",
    "## Moving segment 2 handle z to -0.1:\n",
    "\n",
    "-**Without cholesky FPS1.2827241446908275**\n",
    "- refactorizes the Aff matrix every frame to solve with rhs.\n",
    "- this is slower\n",
    "  \n",
    "-**With cholesky:   FPS 3.102651561384626**\n",
    "- the facrotization is done once! and factor(rhs[:, i]) at each step is fast\n",
    "- much faster'''\n",
    "\n"
   ]
  },
  {
   "cell_type": "markdown",
   "id": "21849539-8a0b-4b62-8304-2f8c3a2aacaf",
   "metadata": {},
   "source": [
    "## Four meshes showing the transformations step by step: hand, woody, bumpy plane and cactus"
   ]
  },
  {
   "cell_type": "code",
   "execution_count": 12,
   "id": "1fb02400-9d24-488a-aeb3-3e5f3ae1bd4d",
   "metadata": {},
   "outputs": [
    {
     "data": {
      "application/vnd.jupyter.widget-view+json": {
       "model_id": "2e96311ba9914702af7308fc5cc6bd91",
       "version_major": 2,
       "version_minor": 0
      },
      "text/plain": [
       "HBox(children=(Output(), Output()))"
      ]
     },
     "metadata": {},
     "output_type": "display_data"
    },
    {
     "data": {
      "application/vnd.jupyter.widget-view+json": {
       "model_id": "1ec4f07e6a0148dfa97653730fe92725",
       "version_major": 2,
       "version_minor": 0
      },
      "text/plain": [
       "HBox(children=(Output(), Output()))"
      ]
     },
     "metadata": {},
     "output_type": "display_data"
    }
   ],
   "source": [
    "import numpy as np\n",
    "from scipy.spatial.transform import Rotation\n",
    "import meshplot as mp\n",
    "\n",
    "handle_vertex_positions = v.copy()\n",
    "\n",
    "# maually defined transformations!\n",
    "transformations = [\n",
    "    (1, 0.2, 0.0, 0.0, 45, 0, 0),\n",
    "    (2, 0.0, 0.2, 0.0, 0, 45, 0),\n",
    "    (3, 0.0, 0.0, 0.2, 0, 0, 45),\n",
    "]\n",
    "for s, x, y, z, α, β, γ in transformations:\n",
    "    if not np.any(labels == s):\n",
    "        print(f\"Skipping label {s} (no vertices)\")\n",
    "        continue\n",
    "\n",
    "    slices = (labels == s)\n",
    "    r = Rotation.from_euler('xyz', [α, β, γ], degrees=True)\n",
    "    displacement = np.array([[x, y, z]])\n",
    "    v_slice = v[slices] + displacement\n",
    "    center = v_slice.mean(axis=0)\n",
    "    handle_vertex_positions[slices] = r.apply(v_slice - center) + center\n",
    "\n",
    "# Step 3: Smooth deformed mesh and restore\n",
    "Bprime = deformer.extract_smooth_surface(handle_vertex_positions)\n",
    "Sprime = deformer.apply_details(Bprime, a1, a2, a3)\n",
    "\n",
    "# Step 4: Plot in 2x2 grid\n",
    "p= mp.subplot(v, f, c=labels, s=[2, 2, 0])      \n",
    "mp.subplot(B, f,data=p, c=labels, s=[2, 2, 1])        \n",
    "mp.subplot(Bprime, f,data=p, c=labels, s=[2, 2, 2])   \n",
    "mp.subplot(Sprime, f,data=p, c=labels, s=[2, 2, 3])   \n"
   ]
  },
  {
   "cell_type": "code",
   "execution_count": null,
   "id": "93de1c37-34d2-4890-941d-61520e243bc5",
   "metadata": {},
   "outputs": [],
   "source": []
  },
  {
   "cell_type": "code",
   "execution_count": 14,
   "id": "f1cb19c6-8435-4272-8104-741bd1c9b0a3",
   "metadata": {},
   "outputs": [
    {
     "name": "stdout",
     "output_type": "stream",
     "text": [
      "[0 1 2 3 4 5]\n"
     ]
    },
    {
     "data": {
      "application/vnd.jupyter.widget-view+json": {
       "model_id": "24b33ca161bf490bb092062c655d93fc",
       "version_major": 2,
       "version_minor": 0
      },
      "text/plain": [
       "HBox(children=(Output(), Output()))"
      ]
     },
     "metadata": {},
     "output_type": "display_data"
    },
    {
     "data": {
      "application/vnd.jupyter.widget-view+json": {
       "model_id": "4e511b215c384c268f47dd2e2e1fb7df",
       "version_major": 2,
       "version_minor": 0
      },
      "text/plain": [
       "HBox(children=(Output(), Output()))"
      ]
     },
     "metadata": {},
     "output_type": "display_data"
    }
   ],
   "source": [
    "import meshplot as mp\n",
    "from scipy.spatial.transform import Rotation\n",
    "\n",
    "# Step 0: Read and normalize\n",
    "v, f = igl.read_triangle_mesh('data/woody-hi.off')\n",
    "labels = np.load('data/woody-hi.label.npy').astype(int)\n",
    "v -= v.min(axis=0)\n",
    "v /= v.max()\n",
    "\n",
    "deformer = mesh_deformer(v, f, labels)\n",
    "\n",
    "# Step 1: Smooth and encode details on original mesh\n",
    "B = deformer.extract_smooth_surface(v)\n",
    "a1, a2, a3 = deformer.encode_details(v, B)\n",
    "\n",
    "# Step 2: Apply manual transformations\n",
    "handle_vertex_positions = v.copy()\n",
    "\n",
    "print(np.unique(labels))\n",
    "\n",
    "transformations = [\n",
    "    (0, 0.2, 0.0, 0.0, 30, 0, 0),  \n",
    "    (1, 0.0, 0.2, 0.0, 0, 30, 0), \n",
    "    (2, 0.2, 0.0, 0.0, 30, 0, 0),  \n",
    "    (3, 0.0, 0.2, 0.0, 0, 30, 0),  \n",
    "    (4, 0.2, 0.0, 0.0, 30, 0, 0), \n",
    "   \n",
    "]\n",
    "\n",
    "for s, x, y, z, α, β, γ in transformations:\n",
    "    if not np.any(labels == s):\n",
    "        print(f\"Skipping label {s} (no vertices)\")\n",
    "        continue\n",
    "\n",
    "    slices = (labels == s)\n",
    "    r = Rotation.from_euler('xyz', [α, β, γ], degrees=True)\n",
    "    displacement = np.array([[x, y, z]])\n",
    "    v_slice = v[slices] + displacement\n",
    "    center = v_slice.mean(axis=0)\n",
    "    handle_vertex_positions[slices] = r.apply(v_slice - center) + center\n",
    "\n",
    "# Step 3: Smooth deformed mesh and restore\n",
    "Bprime = deformer.extract_smooth_surface(handle_vertex_positions)\n",
    "Sprime = deformer.apply_details(Bprime, a1, a2, a3)\n",
    "\n",
    "\n",
    "p=mp.subplot(v, f, c=labels, s=[2, 2, 0])       # Original mesh\n",
    "mp.subplot(B, f,data=p,  c=labels, s=[2, 2, 1])        # Smoothed original\n",
    "mp.subplot(Bprime, f,data=p,  c=labels, s=[2, 2, 2])   # Sm\n",
    "mp.subplot(Sprime, f,data=p,  c=labels, s=[2, 2, 3])   # Sm\n"
   ]
  },
  {
   "cell_type": "code",
   "execution_count": null,
   "id": "dadf354f-8292-451a-aee9-931f00d7addf",
   "metadata": {},
   "outputs": [],
   "source": []
  },
  {
   "cell_type": "code",
   "execution_count": 15,
   "id": "3b313a06-effe-4a18-bf96-c5642f49f4bc",
   "metadata": {},
   "outputs": [
    {
     "name": "stdout",
     "output_type": "stream",
     "text": [
      "[0 1 2 3 4]\n"
     ]
    },
    {
     "data": {
      "application/vnd.jupyter.widget-view+json": {
       "model_id": "9f7155f41c1c41ee87d49d6e9feeff69",
       "version_major": 2,
       "version_minor": 0
      },
      "text/plain": [
       "HBox(children=(Output(), Output()))"
      ]
     },
     "metadata": {},
     "output_type": "display_data"
    },
    {
     "data": {
      "application/vnd.jupyter.widget-view+json": {
       "model_id": "aadf16346b674242b9fa17caa518a9b7",
       "version_major": 2,
       "version_minor": 0
      },
      "text/plain": [
       "HBox(children=(Output(), Output()))"
      ]
     },
     "metadata": {},
     "output_type": "display_data"
    }
   ],
   "source": [
    "\n",
    "\n",
    "\n",
    "v, f = igl.read_triangle_mesh('data/cactus.off')\n",
    "labels = np.load('data/cactus.label.npy').astype(int)\n",
    "v -= v.min(axis=0)\n",
    "v /= v.max()\n",
    "import numpy as np\n",
    "from scipy.spatial.transform import Rotation\n",
    "import meshplot as mp\n",
    "\n",
    "\n",
    "deformer = mesh_deformer(v, f, labels)\n",
    "\n",
    "print(np.unique(labels))\n",
    "\n",
    "# Step 1: Smooth and encode details on original mesh BEFORE deformation\n",
    "B = deformer.extract_smooth_surface(v)\n",
    "a1, a2, a3 = deformer.encode_details(v, B)\n",
    "\n",
    "# Step 2: Apply manual transformations\n",
    "handle_vertex_positions = v.copy()\n",
    "\n",
    "transformations = [\n",
    "    (1, 0.2, 0.0, 0.0, 10, 0, 0),\n",
    "    (2, 0.3, 0, 0.0, 0, 0, 0),\n",
    "    (3, 0.0, 0.0, 0.2, 0, 0, 0),\n",
    "]\n",
    "\n",
    "for s, x, y, z, α, β, γ in transformations:\n",
    "    if not np.any(labels == s):\n",
    "        print(f\"Skipping label {s} (no vertices)\")\n",
    "        continue\n",
    "\n",
    "    slices = (labels == s)\n",
    "    r = Rotation.from_euler('xyz', [α, β, γ], degrees=True)\n",
    "    displacement = np.array([[x, y, z]])\n",
    "    v_slice = v[slices] + displacement\n",
    "    center = v_slice.mean(axis=0)\n",
    "    handle_vertex_positions[slices] = r.apply(v_slice - center) + center\n",
    "\n",
    "# Step 3: Smooth deformed mesh and restore\n",
    "Bprime = deformer.extract_smooth_surface(handle_vertex_positions)\n",
    "Sprime = deformer.apply_details(Bprime, a1, a2, a3)\n",
    "\n",
    "\n",
    "p=mp.subplot(v, f, c=labels, s=[2, 2, 0])       # original mesh\n",
    "mp.subplot(B, f,data=p,  c=labels, s=[2, 2, 1])        # smoothed original\n",
    "mp.subplot(Bprime, f,data=p, c=labels, s=[2, 2, 2])   # smoothed transformed\n",
    "mp.subplot(Sprime, f,data=p, c=labels, s=[2, 2, 3])   # S transformed\n"
   ]
  },
  {
   "cell_type": "code",
   "execution_count": 16,
   "id": "2779e4e0-5a76-4a92-ac01-e60ff0b30ea6",
   "metadata": {},
   "outputs": [
    {
     "name": "stdout",
     "output_type": "stream",
     "text": [
      "[0 1 2 3 4]\n"
     ]
    },
    {
     "data": {
      "application/vnd.jupyter.widget-view+json": {
       "model_id": "664a39002d60494d9552be1c831dfb18",
       "version_major": 2,
       "version_minor": 0
      },
      "text/plain": [
       "HBox(children=(Output(), Output()))"
      ]
     },
     "metadata": {},
     "output_type": "display_data"
    },
    {
     "data": {
      "application/vnd.jupyter.widget-view+json": {
       "model_id": "a3bba8e361334bb586c286ce1eaaa184",
       "version_major": 2,
       "version_minor": 0
      },
      "text/plain": [
       "HBox(children=(Output(), Output()))"
      ]
     },
     "metadata": {},
     "output_type": "display_data"
    }
   ],
   "source": [
    "import numpy as np\n",
    "from scipy.spatial.transform import Rotation\n",
    "import meshplot as mp\n",
    "\n",
    "v, f = igl.read_triangle_mesh('data/bumpy_plane.off')\n",
    "labels = np.load('data/bumpy_plane.label.npy').astype(int)\n",
    "v -= v.min(axis=0)\n",
    "v /= v.max()\n",
    "\n",
    "deformer = mesh_deformer(v, f, labels)\n",
    "\n",
    "print(np.unique(labels))\n",
    "\n",
    "# Ssmooth and encode details on original mesh BEFORE deformation\n",
    "B = deformer.extract_smooth_surface(v)\n",
    "a1, a2, a3 = deformer.encode_details(v, B)\n",
    "\n",
    "# apply manual transformations\n",
    "handle_vertex_positions = v.copy()\n",
    "\n",
    "transformations = [\n",
    "    (1, 0.2, 0.0, 0.0, 45, 0, 0),\n",
    "    (2, 0.0, 0.2, 0.0, 0, 45, 0),\n",
    "    (3, 0.0, 0.0, 0.2, 0, 0, 45),\n",
    "]\n",
    "\n",
    "for s, x, y, z, α, β, γ in transformations:\n",
    "    if not np.any(labels == s):\n",
    "        print(f\"Skipping label {s} (no vertices)\")\n",
    "        continue\n",
    "\n",
    "    slices = (labels == s)\n",
    "    r = Rotation.from_euler('xyz', [α, β, γ], degrees=True)\n",
    "    displacement = np.array([[x, y, z]])\n",
    "    v_slice = v[slices] + displacement\n",
    "    center = v_slice.mean(axis=0)\n",
    "    handle_vertex_positions[slices] = r.apply(v_slice - center) + center\n",
    "\n",
    "Bprime = deformer.extract_smooth_surface(handle_vertex_positions)\n",
    "Sprime = deformer.apply_details(Bprime, a1, a2, a3)\n",
    "\n",
    "p=mp.subplot(v, f, c=labels, s=[2, 2, 0])       \n",
    "mp.subplot(B, f,data=p, c=labels, s=[2, 2, 1])        \n",
    "mp.subplot(Bprime, f,data=p, c=labels, s=[2, 2, 2])   \n",
    "mp.subplot(Sprime, f,data=p, c=labels, s=[2, 2, 3])   \n"
   ]
  },
  {
   "cell_type": "code",
   "execution_count": null,
   "id": "ae5c71d9-9791-4513-9bc8-40fc26a27ff1",
   "metadata": {},
   "outputs": [],
   "source": []
  },
  {
   "cell_type": "code",
   "execution_count": null,
   "id": "6ec07fef-4595-4f97-b2b6-43cc585610ae",
   "metadata": {},
   "outputs": [],
   "source": []
  },
  {
   "cell_type": "code",
   "execution_count": null,
   "id": "183539c7-1bb1-45b9-a00c-e67e4feedcd9",
   "metadata": {},
   "outputs": [],
   "source": []
  },
  {
   "cell_type": "code",
   "execution_count": null,
   "id": "83e63ad2-0920-47e0-829c-da1095d4918e",
   "metadata": {},
   "outputs": [],
   "source": []
  },
  {
   "cell_type": "code",
   "execution_count": null,
   "id": "ab1ca01a-b93d-4d47-99a8-0f4069310e49",
   "metadata": {},
   "outputs": [],
   "source": []
  },
  {
   "cell_type": "code",
   "execution_count": null,
   "id": "c65d5bcd-d467-4720-a3c1-feb37a854d67",
   "metadata": {},
   "outputs": [],
   "source": []
  }
 ],
 "metadata": {
  "kernelspec": {
   "display_name": "Python 3 (ipykernel)",
   "language": "python",
   "name": "python3"
  },
  "language_info": {
   "codemirror_mode": {
    "name": "ipython",
    "version": 3
   },
   "file_extension": ".py",
   "mimetype": "text/x-python",
   "name": "python",
   "nbconvert_exporter": "python",
   "pygments_lexer": "ipython3",
   "version": "3.11.5"
  }
 },
 "nbformat": 4,
 "nbformat_minor": 5
}

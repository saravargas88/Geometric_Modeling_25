{
 "cells": [
  {
   "cell_type": "markdown",
   "metadata": {},
   "source": [
    "# Assigment 4"
   ]
  },
  {
   "cell_type": "code",
   "execution_count": 1,
   "metadata": {},
   "outputs": [],
   "source": [
    "import math\n",
    "import numpy as np\n",
    "import scipy.sparse as sp\n",
    "import igl\n",
    "import meshplot as mp\n",
    "\n",
    "from math import sqrt"
   ]
  },
  {
   "cell_type": "code",
   "execution_count": 2,
   "metadata": {},
   "outputs": [],
   "source": [
    "v, f = igl.read_triangle_mesh(\"data/irr4-cyl2.off\")\n",
    "tt, _ = igl.triangle_triangle_adjacency(f)\n",
    "\n",
    "c = np.loadtxt(\"data/irr4-cyl2.constraints\")\n",
    "cf = c[:, 0].astype(np.int64)\n",
    "c = c[:, 1:]"
   ]
  },
  {
   "cell_type": "code",
   "execution_count": 3,
   "metadata": {},
   "outputs": [],
   "source": [
    "def find_root(c0,n):\n",
    "    M = np.zeros((n,n),dtype=complex)\n",
    "    for i in range(1,n):\n",
    "        M[i,i-1] = 1.0\n",
    "    M[0,n-1] = c0\n",
    "    w, v = np.linalg.eig(M)\n",
    "    return w[0]"
   ]
  },
  {
   "cell_type": "code",
   "execution_count": 4,
   "metadata": {},
   "outputs": [],
   "source": [
    "def align_field(V, F, TT, soft_id, soft_value, llambda):\n",
    "    assert(soft_id[0] > 0)\n",
    "    assert(soft_id.shape[0] == soft_value.shape[0])\n",
    "\n",
    "    \n",
    "    # Edges\n",
    "    e1 = V[F[:, 1], :] - V[F[:, 0], :]\n",
    "    e2 = V[F[:, 2], :] - V[F[:, 0], :]\n",
    "\n",
    "    # Compute the local reference systems for each face, T1, T2\n",
    "    T1 = e1 / np.linalg.norm(e1, axis=1)[:,None]\n",
    "        \n",
    "    T2 =  np.cross(T1, np.cross(T1, e2))\n",
    "    T2 /= np.linalg.norm(T2, axis=1)[:,None]\n",
    "  \n",
    "    # Arrays for the entries of the matrix\n",
    "    data = []\n",
    "    ii = []\n",
    "    jj = []\n",
    "    \n",
    "    index = 0\n",
    "    for f in range(F.shape[0]):\n",
    "        for ei in range(3): # Loop over the edges\n",
    "            \n",
    "            # Look up the opposite face\n",
    "            g = TT[f, ei]\n",
    "            \n",
    "            # If it is a boundary edge, it does not contribute to the energy\n",
    "            # or avoid to count every edge twice\n",
    "            if g == -1 or f > g:\n",
    "                continue\n",
    "                \n",
    "            # Compute the complex representation of the common edge\n",
    "            e  = V[F[f, (ei+1)%3], :] - V[F[f, ei], :]\n",
    "            \n",
    "            vef = np.array([np.dot(e, T1[f, :]), np.dot(e, T2[f, :])])\n",
    "            vef /= np.linalg.norm(vef)\n",
    "            ef = (vef[0] + vef[1]*1j).conjugate()\n",
    "            \n",
    "            veg = np.array([np.dot(e, T1[g, :]), np.dot(e, T2[g, :])])\n",
    "            veg /= np.linalg.norm(veg)\n",
    "            eg = (veg[0] + veg[1]*1j).conjugate()\n",
    "            \n",
    "            \n",
    "            # Add the term conj(f)^n*ui - conj(g)^n*uj to the energy matrix\n",
    "            data.append(ef);  ii.append(index); jj.append(f)\n",
    "            data.append(-eg); ii.append(index); jj.append(g)\n",
    "\n",
    "            index += 1\n",
    "            \n",
    "    \n",
    "    sqrtl = sqrt(llambda)\n",
    "    \n",
    "    # Convert the constraints into the complex polynomial coefficients and add them as soft constraints\n",
    "    \n",
    "    # Rhs of the system\n",
    "    b = np.zeros(index + soft_id.shape[0], dtype=np.complex128)\n",
    "    \n",
    "    for ci in range(soft_id.shape[0]):\n",
    "        f = soft_id[ci]\n",
    "        v = soft_value[ci, :]\n",
    "        \n",
    "        # Project on the local frame\n",
    "        c = np.dot(v, T1[f, :]) + np.dot(v, T2[f, :])*1j\n",
    "        \n",
    "        data.append(sqrtl); ii.append(index); jj.append(f)\n",
    "        b[index] = c * sqrtl\n",
    "        \n",
    "        index += 1\n",
    "    \n",
    "    assert(b.shape[0] == index)\n",
    "    \n",
    "    \n",
    "    # Solve the linear system\n",
    "    A = sp.coo_matrix((data, (ii, jj)), shape=(index, F.shape[0])).asformat(\"csr\")\n",
    "    u = sp.linalg.spsolve(A.T.conjugate() @ A, A.T.conjugate() @ b)\n",
    "    \n",
    "    R = T1 * u.real[:,None] + T2 * u.imag[:,None]\n",
    "\n",
    "    return R\n"
   ]
  },
  {
   "cell_type": "code",
   "execution_count": 5,
   "metadata": {},
   "outputs": [],
   "source": [
    "def plot_mesh_field(V, F, R, constrain_faces, n):\n",
    "    # Highlight in red the constrained faces\n",
    "    col = np.ones_like(f)\n",
    "    col[constrain_faces, 1:] = 0\n",
    "    \n",
    "    # Scaling of the representative vectors\n",
    "    avg = igl.avg_edge_length(V, F)/2\n",
    "\n",
    "    # Edges\n",
    "    e1 = V[F[:, 1], :] - V[F[:, 0], :]\n",
    "    e2 = V[F[:, 2], :] - V[F[:, 0], :]\n",
    "\n",
    "    # Compute the local reference systems for each face, T1, T2\n",
    "    T1 = e1 / np.linalg.norm(e1, axis=1)[:,None]\n",
    "        \n",
    "    T2 =  np.cross(T1, np.cross(T1, e2))\n",
    "    T2 /= np.linalg.norm(T2, axis=1)[:,None]\n",
    "\n",
    "    #Plot from face barycenters\n",
    "    B = igl.barycenter(V, F)\n",
    "\n",
    "    p = mp.plot(V, F, c=col)\n",
    "    \n",
    "    # Convert R to an angle\n",
    "    angles = np.arctan2(np.sum(R*T2,axis=1),np.sum(R*T1,axis=1))\n",
    "    R = R / np.linalg.norm(R, axis=1)[:, None]\n",
    "\n",
    "    \n",
    "    for i in range(n):\n",
    "        R2 = np.cos(angles+i*2*math.pi/n)[:,None] * T1 + np.sin(angles+i*2*math.pi/n)[:,None] * T2\n",
    "        p.add_lines(B, B + R2 * avg)\n",
    "    \n",
    "    return p"
   ]
  },
  {
   "cell_type": "code",
   "execution_count": 6,
   "metadata": {},
   "outputs": [
    {
     "data": {
      "application/vnd.jupyter.widget-view+json": {
       "model_id": "58437a6243274e428480ec973c6a3cba",
       "version_major": 2,
       "version_minor": 0
      },
      "text/plain": [
       "Renderer(camera=PerspectiveCamera(children=(DirectionalLight(color='white', intensity=0.6, position=(0.0, 0.0,…"
      ]
     },
     "metadata": {},
     "output_type": "display_data"
    },
    {
     "data": {
      "text/plain": [
       "<meshplot.Viewer.Viewer at 0x1288cb0d0>"
      ]
     },
     "execution_count": 6,
     "metadata": {},
     "output_type": "execute_result"
    }
   ],
   "source": [
    "R = align_field(v, f, tt, cf, c, 1e6)\n",
    "plot_mesh_field(v, f, R, cf, 1)"
   ]
  },
  {
   "cell_type": "markdown",
   "metadata": {},
   "source": [
    "# Part 1: Tangent vector fields for scalar field design"
   ]
  },
  {
   "cell_type": "code",
   "execution_count": 7,
   "metadata": {},
   "outputs": [
    {
     "name": "stdout",
     "output_type": "stream",
     "text": [
      "Vector field with hard constraints:\n"
     ]
    },
    {
     "data": {
      "application/vnd.jupyter.widget-view+json": {
       "model_id": "8c6d55ad3bed4f9eb8a17d91cc71ead0",
       "version_major": 2,
       "version_minor": 0
      },
      "text/plain": [
       "Renderer(camera=PerspectiveCamera(children=(DirectionalLight(color='white', intensity=0.6, position=(0.0, 0.0,…"
      ]
     },
     "metadata": {},
     "output_type": "display_data"
    },
    {
     "data": {
      "text/plain": [
       "<meshplot.Viewer.Viewer at 0x12b4e6410>"
      ]
     },
     "execution_count": 7,
     "metadata": {},
     "output_type": "execute_result"
    }
   ],
   "source": [
    "def align_field_hard_constraint(V, F, TT, soft_id, soft_value, llambda, n):\n",
    "    assert(soft_id[0] > 0)\n",
    "    assert(soft_id.shape[0] == soft_value.shape[0])\n",
    "    assert(n>0)\n",
    "    \n",
    "    # Edges\n",
    "    e1 = V[F[:, 1], :] - V[F[:, 0], :]\n",
    "    e2 = V[F[:, 2], :] - V[F[:, 0], :]\n",
    "\n",
    "    # Compute the local reference systems for each face, T1, T2\n",
    "    T1 = e1 / np.linalg.norm(e1, axis=1)[:,None]\n",
    "        \n",
    "    T2 =  np.cross(T1, np.cross(T1, e2))\n",
    "    T2 /= np.linalg.norm(T2, axis=1)[:,None]\n",
    "       \n",
    "    # Arrays for the entries of the matrix\n",
    "    data = []\n",
    "    ii = []\n",
    "    jj = []\n",
    "    \n",
    "    index = 0\n",
    "    for f in range(F.shape[0]):\n",
    "        for ei in range(3): # Loop over the edges\n",
    "            \n",
    "            # Look up the opposite face\n",
    "            g = TT[f, ei]\n",
    "            \n",
    "            # If it is a boundary edge, it does not contribute to the energy\n",
    "            # or avoid to count every edge twice\n",
    "            if g == -1 or f > g:\n",
    "                continue\n",
    "                \n",
    "            # Compute the complex representation of the common edge\n",
    "            e  = V[F[f, (ei+1)%3], :] - V[F[f, ei], :]\n",
    "            \n",
    "            vef = np.array([np.dot(e, T1[f, :]), np.dot(e, T2[f, :])])\n",
    "            vef /= np.linalg.norm(vef)\n",
    "            ef = (vef[0] + vef[1]*1j).conjugate()\n",
    "            ef = np.power(ef,n)\n",
    "            \n",
    "            veg = np.array([np.dot(e, T1[g, :]), np.dot(e, T2[g, :])])\n",
    "            veg /= np.linalg.norm(veg)\n",
    "            eg = (veg[0] + veg[1]*1j).conjugate()\n",
    "            eg = np.power(eg,n)\n",
    "            \n",
    "            # Add the term conj(f)^n*ui - conj(g)^n*uj to the energy matrix\n",
    "            data.append(ef);  ii.append(index); jj.append(f)\n",
    "            data.append(-eg); ii.append(index); jj.append(g)\n",
    "\n",
    "            index += 1\n",
    "\n",
    "    A = sp.coo_matrix((data, (ii, jj)), shape=(index, F.shape[0])).tocsr()\n",
    "    Q = A.conj().T @ A\n",
    "\n",
    "    # now we partition the face indices bewteen constraints and actual optimizable index values. \n",
    "    all_ids = np.arange(F.shape[0])\n",
    "    free_ids = np.setdiff1d(all_ids, soft_id) \n",
    "    constrained_ids = soft_id \n",
    "\n",
    "    # constraint vector u_c\n",
    "    u_c = np.zeros(len(soft_id), dtype=complex)\n",
    "\n",
    "    \n",
    "    for i, f in enumerate(soft_id):\n",
    "        v = soft_value[i]\n",
    "        c = np.dot(v, T1[f]) + 1j * np.dot(v, T2[f])\n",
    "        u_c[i]= c ** n\n",
    "\n",
    "    #obtain the Qff from the Q matrix : extract diagonal of free ff id's\n",
    "    Q_ff= Q[free_ids,:][:, free_ids]\n",
    "    Q_fc= Q[free_ids,:][:, constrained_ids]\n",
    "    rhs= -Q_fc @ u_c\n",
    "    #solve the system!\n",
    "    u_f = sp.linalg.spsolve(Q_ff, rhs)\n",
    "\n",
    "    # u contains both uf that we just found and the constraints\n",
    "    u = np.zeros(F.shape[0], dtype=complex)\n",
    "    u[free_ids] = u_f\n",
    "    u[constrained_ids] = u_c\n",
    "\n",
    "    R = np.zeros_like(T1)\n",
    "    \n",
    "    for j in range(u.shape[0]):\n",
    "        u[j] = find_root(u[j],n)\n",
    "    \n",
    "    R = T1 * u.real[:,None] + T2 * u.imag[:,None]\n",
    "    R=R\n",
    "\n",
    "    return R\n",
    "\n",
    "RQ = align_field_hard_constraint(v, f, tt, cf, c, 1e6, 1)\n",
    "print('Vector field with hard constraints:')\n",
    "plot_mesh_field(v, f, RQ, cf, 1)\n",
    "\n"
   ]
  },
  {
   "cell_type": "markdown",
   "metadata": {},
   "source": [
    "## Part 2: Reconstructing a scalar field from a vector field\n",
    "Find a scalar function S(x) defined over the surface whose gradient fits a given\n",
    "vector field as closely as possible."
   ]
  },
  {
   "cell_type": "code",
   "execution_count": 8,
   "metadata": {},
   "outputs": [],
   "source": [
    "def plot_mesh_field_with_scalar(v, f, Gs_mat, cf, n, s):\n",
    "  \n",
    "    col = -s[f].mean(axis=1).flatten()\n",
    "\n",
    "    B = igl.barycenter(v,f)\n",
    "\n",
    "\n",
    "    avg = igl.avg_edge_length(v,f) / 2\n",
    "\n",
    "    R_normalized = Gs_mat / np.linalg.norm( Gs_mat, axis=1)[:, None]\n",
    "    arrows = B + R_normalized * avg\n",
    "\n",
    "    p = mp.plot(v, f, c=col, shading={\"wireframe\": False})\n",
    "\n",
    "    # Plot vector field\n",
    "    p.add_lines(B, arrows, shading={\"line_color\": \"black\"})\n",
    "\n",
    "    return p\n",
    "\n",
    "\n"
   ]
  },
  {
   "cell_type": "code",
   "execution_count": 9,
   "metadata": {},
   "outputs": [
    {
     "name": "stdout",
     "output_type": "stream",
     "text": [
      "Vector field from calculated scalar field:\n"
     ]
    },
    {
     "data": {
      "application/vnd.jupyter.widget-view+json": {
       "model_id": "31166f3b5bcc4364a1a7f576e8ec1a27",
       "version_major": 2,
       "version_minor": 0
      },
      "text/plain": [
       "Renderer(camera=PerspectiveCamera(children=(DirectionalLight(color='white', intensity=0.6, position=(0.0, 0.0,…"
      ]
     },
     "metadata": {},
     "output_type": "display_data"
    },
    {
     "data": {
      "text/plain": [
       "<meshplot.Viewer.Viewer at 0x12b53ba10>"
      ]
     },
     "execution_count": 9,
     "metadata": {},
     "output_type": "execute_result"
    }
   ],
   "source": [
    "\n",
    "v, f = igl.read_triangle_mesh(\"data/irr4-cyl2.off\")\n",
    "## scalar field: \n",
    "G = igl.grad(v, f)\n",
    "A = 0.5 * igl.doublearea(v, f)\n",
    "A_diag = sp.diags(np.repeat(A, 3))\n",
    "u_flat = R.T.reshape(R.size, 1)\n",
    "\n",
    "#  solve (G^T A G) s = -2 G^T A u\n",
    "lhs = G.T @ A_diag @ G\n",
    "rhs = -2 * G.T @ A_diag @ u_flat\n",
    "\n",
    "lhs = lhs.tolil()\n",
    "#  modify s[fixed_v] = 0 \n",
    "fixed_v = 0\n",
    "lhs[fixed_v, :] = 0  # zero entire row\n",
    "lhs[fixed_v, fixed_v] = 1  #set diagonal to 1\n",
    "rhs[fixed_v] = 0  # update rhs entry here\n",
    "#back to CSC \n",
    "lhs = lhs.tocsc()\n",
    "\n",
    "s = sp.linalg.spsolve(lhs, rhs)\n",
    "\n",
    "\n",
    "#NOW PLOT GRADIENT FIELD with scalar field :\n",
    "# reconsruct gradient field\n",
    "gs = G @ s\n",
    "Gs_mat = gs.reshape(3, f.shape[0]).T\n",
    "print('Vector field from calculated scalar field:')\n",
    "plot_mesh_field_with_scalar(v, f, Gs_mat, cf, 1, s)\n",
    "\n",
    "#make scalar field from recnstructed vector field\n"
   ]
  },
  {
   "cell_type": "code",
   "execution_count": 10,
   "metadata": {},
   "outputs": [
    {
     "name": "stdout",
     "output_type": "stream",
     "text": [
      "Map of Poisson parametrization error: error between the gradient of my computed scalar field and the target vector field\n"
     ]
    },
    {
     "data": {
      "application/vnd.jupyter.widget-view+json": {
       "model_id": "935d126608824b03ab2ba1b9e116d677",
       "version_major": 2,
       "version_minor": 0
      },
      "text/plain": [
       "Renderer(camera=PerspectiveCamera(children=(DirectionalLight(color='white', intensity=0.6, position=(0.0, 0.0,…"
      ]
     },
     "metadata": {},
     "output_type": "display_data"
    },
    {
     "name": "stdout",
     "output_type": "stream",
     "text": [
      "Dump of S:  [-0.          1.67583695 -1.76469993 -1.85885801  0.02047839  0.20236464\n",
      " -0.17633152  0.02820092 -2.08938657 -0.15842508 -0.61604168 -1.93225376\n",
      " -1.1274678  -0.67465842 -0.43523509  0.88456311  0.7321628  -0.09492589\n",
      " -0.2915436   0.11396174 -0.8993885  -0.57888821 -1.10747115 -0.27514291\n",
      " -1.97328822 -1.87256568 -2.05761139 -0.94078959 -1.12221817 -0.98741711\n",
      " -0.54536379 -1.42264934 -1.10893013 -0.30430452 -0.25078107  0.09661135\n",
      " -0.00439762  0.36128232 -0.18012787 -0.34064863 -0.07270024  0.20334759\n",
      "  0.38913794  1.30633938 -0.18131551 -0.15205893 -0.21394398 -0.33669563\n",
      " -0.13994289  0.41973966]\n"
     ]
    }
   ],
   "source": [
    "#RECONSTRUCTION ERROR\n",
    "import matplotlib.pyplot as plt\n",
    "\n",
    "error_vectors = Gs_mat - R\n",
    "error = np.linalg.norm(error_vectors, axis=1)**2\n",
    "print('Map of Poisson parametrization error: error between the gradient of my computed scalar field and the target vector field')\n",
    "mp.plot(v, f, c=error, shading={\"wireframe\": False})\n",
    "\n",
    "\n",
    "print('Dump of S: ' ,s[:50])\n"
   ]
  },
  {
   "cell_type": "markdown",
   "metadata": {},
   "source": [
    "## Part 3: \n",
    "\n",
    "Expermenting with harmonic and LSCM parametrization:"
   ]
  },
  {
   "cell_type": "code",
   "execution_count": 11,
   "metadata": {},
   "outputs": [
    {
     "ename": "NameError",
     "evalue": "name 'bnd' is not defined",
     "output_type": "error",
     "traceback": [
      "\u001b[0;31m---------------------------------------------------------------------------\u001b[0m",
      "\u001b[0;31mNameError\u001b[0m                                 Traceback (most recent call last)",
      "Cell \u001b[0;32mIn[11], line 6\u001b[0m\n\u001b[1;32m      3\u001b[0m bound_uv \u001b[38;5;241m=\u001b[39m igl\u001b[38;5;241m.\u001b[39mmap_vertices_to_circle(v, bound)\n\u001b[1;32m      5\u001b[0m \u001b[38;5;66;03m# harmonic parameterization \u001b[39;00m\n\u001b[0;32m----> 6\u001b[0m uv \u001b[38;5;241m=\u001b[39m igl\u001b[38;5;241m.\u001b[39mharmonic(v, f, \u001b[43mbnd\u001b[49m, bound_uv, \u001b[38;5;241m1\u001b[39m)\n\u001b[1;32m      7\u001b[0m uv \u001b[38;5;241m=\u001b[39m np\u001b[38;5;241m.\u001b[39marray(uv)\n\u001b[1;32m      9\u001b[0m p1 \u001b[38;5;241m=\u001b[39m mp\u001b[38;5;241m.\u001b[39msubplot(v, f, uv\u001b[38;5;241m=\u001b[39muv, s\u001b[38;5;241m=\u001b[39m[\u001b[38;5;241m1\u001b[39m, \u001b[38;5;241m2\u001b[39m, \u001b[38;5;241m0\u001b[39m])\n",
      "\u001b[0;31mNameError\u001b[0m: name 'bnd' is not defined"
     ]
    }
   ],
   "source": [
    "v, f  = igl.read_triangle_mesh(\"data/camel_head.off\")\n",
    "bound = igl.boundary_loop(f)\n",
    "bound_uv = igl.map_vertices_to_circle(v, bound)\n",
    "\n",
    "# harmonic parameterization \n",
    "uv = igl.harmonic(v, f, bnd, bound_uv, 1)\n",
    "uv = np.array(uv)\n",
    "\n",
    "p1 = mp.subplot(v, f, uv=uv, s=[1, 2, 0])\n",
    "mp.subplot(uv, f, shading={\"wireframe\": True}, data=p1, s=[1, 2, 1])\n",
    "\n",
    "#gradient of scalar field \n",
    "v_vals = uv[:, 1]\n",
    "G = igl.grad(v, f)                \n",
    "grad_v = (G @ v_vals).reshape(3,f.shape[0]).T \n",
    "\n",
    "face_centers = np.mean(v[f], axis=1)\n",
    "grad_mag = np.linalg.norm(grad_v, axis=1)\n",
    "\n",
    "#gradient magnitude as face color\n",
    "plot = mp.plot(v, f, c=grad_mag, return_plot=True, shading={\"wireframe\": False})\n",
    "\n",
    "scale = 0.01\n",
    "arrow_ends = face_centers + scale * grad_v\n",
    "plot.add_lines(face_centers, arrow_ends, shading={\"line_color\": \"red\"})\n"
   ]
  },
  {
   "cell_type": "code",
   "execution_count": null,
   "metadata": {},
   "outputs": [],
   "source": [
    "v, f = igl.read_triangle_mesh( \"data/camel_head.off\")\n",
    "#boundary, fixed points\n",
    "b= np.array([1,10])\n",
    "bound= igl.boundary_loop(f)\n",
    "b[0] = bound[0]\n",
    "b[1] = bound[int(bnd.size / 2)]\n",
    "bc = np.array([[0.0, 0.0], [1.0, 0.0]])\n",
    "\n",
    "#computing lscm parametrizaton \n",
    "_, uv_lscm = igl.lscm(v, f, b, bc)\n",
    "\n",
    "p = mp.subplot(v, f, uv=uv_lscm, shading={\"wireframe\": False, \"flat\": False}, s=[1, 2, 0])\n",
    "mp.subplot(uv_lscm, f,  shading={\"wireframe\": True, \"flat\": False}, s=[1, 2, 1], data=p)\n"
   ]
  },
  {
   "cell_type": "code",
   "execution_count": null,
   "metadata": {},
   "outputs": [],
   "source": [
    "\n",
    "def scalar_field(v, f):\n",
    "    G = igl.grad(v, f)\n",
    "    A = 0.5 * igl.doublearea(v, f)\n",
    "    A_diag = sp.diags(np.repeat(A, 3))\n",
    "    u_flat = R.T.reshape(R.size, 1)\n",
    "    \n",
    "    #  solve (G^T A G) s = -2 G^T A u\n",
    "    lhs = G.T @ A_diag @ G\n",
    "    rhs = -2 * G.T @ A_diag @ u_flat\n",
    "    \n",
    "    lhs = lhs.tolil()\n",
    "    #  modify s[fixed_v] = 0 \n",
    "    fixed_v = 0\n",
    "    lhs[fixed_v, :] = 0  # zero entire row\n",
    "    lhs[fixed_v, fixed_v] = 1  #set diagonal to 1\n",
    "    rhs[fixed_v] = 0  # update rhs entry here\n",
    "    #back to CSC \n",
    "    lhs = lhs.tocsc()\n",
    "\n",
    "    s = sp.linalg.spsolve(lhs, rhs)\n",
    "    \n",
    "    gs= G @ s\n",
    "    Gs_mat = gs.reshape(3, f.shape[0]).T\n",
    "    \n",
    "\n",
    "    \n",
    "    return s, gs\n",
    "\n",
    "\n",
    "\n"
   ]
  },
  {
   "cell_type": "markdown",
   "metadata": {},
   "source": [
    "## PART 4: Editing parametrization with vector fields\n",
    "\n",
    "Starting with a harmonic/LSCM parameterization, use the results of the previous steps to replace one of the U , V functions with a function obtained from a smooth user-guided vector field. Visualize the resulting U or V replacement function and its gradient atop the mesh, and texture the mesh with the new parameterization.\n",
    "\n",
    "\n",
    "\n",
    "* “To edit the parameterization, I define a scalar function by reconstructing it from a smooth, user-guided vector field.\n",
    "* This function is then used to replace one coordinate (typically V) of the original UV parameterization.”"
   ]
  },
  {
   "cell_type": "code",
   "execution_count": 12,
   "metadata": {},
   "outputs": [],
   "source": [
    "\n",
    "def edit_param(v, f, tt, cf, c):\n",
    "    # smooth user-guided vector field\n",
    "    R = align_field_hard_constraint(v, f, tt, cf, c, 1e6, 1) \n",
    "    #reconstruct scalar function\n",
    "    s, Gs = scalar_field(v, f)\n",
    "    G = igl.grad(v, f)\n",
    "    \n",
    "    # subsitute V by the gradient of the user-guided vector field\n",
    "    bnd = igl.boundary_loop(f)\n",
    "    bound_uv = igl.map_vertices_to_circle(v, bnd)\n",
    "\n",
    "    # harmonic parameterization \n",
    "    uv = igl.harmonic(v, f, bnd, bound_uv, 1)\n",
    "    \n",
    "    #REPLACE V WITH RECONSTRUCTED SCALAR\n",
    "    uv = np.vstack((uv[:,0], s)).T\n",
    "    return uv\n"
   ]
  },
  {
   "cell_type": "code",
   "execution_count": 123,
   "metadata": {},
   "outputs": [
    {
     "data": {
      "application/vnd.jupyter.widget-view+json": {
       "model_id": "4b5c709bbb8541538f04e386e33e0d2a",
       "version_major": 2,
       "version_minor": 0
      },
      "text/plain": [
       "Renderer(camera=PerspectiveCamera(children=(DirectionalLight(color='white', intensity=0.6, position=(0.0, 0.0,…"
      ]
     },
     "metadata": {},
     "output_type": "display_data"
    },
    {
     "data": {
      "application/vnd.jupyter.widget-view+json": {
       "model_id": "88634c5d4fe84c2c948b0d5b4c746e9a",
       "version_major": 2,
       "version_minor": 0
      },
      "text/plain": [
       "Renderer(camera=PerspectiveCamera(children=(DirectionalLight(color='white', intensity=0.6, position=(0.0, -0.2…"
      ]
     },
     "metadata": {},
     "output_type": "display_data"
    }
   ],
   "source": [
    "v, f = igl.read_triangle_mesh(\"data/irr4-cyl2.off\")\n",
    "tt, _ = igl.triangle_triangle_adjacency(f)\n",
    "c = np.loadtxt(\"data/irr4-cyl2.constraints\")\n",
    "cf = c[:, 0].astype(np.int64)\n",
    "c = c[:, 1:]\n",
    "\n",
    "\n",
    "uv= edit_param(v, f, tt, cf, c)\n",
    "# replace one of the U, V functions with a function obtained from a smooth user-guided vector field\n",
    "# plot mesh with uv\n",
    "avg = igl.avg_edge_length(v, f)/2\n",
    "B = igl.barycenter(v, f)\n",
    "G = igl.grad(v, f)\n",
    "gs = G @ s\n",
    "Gs_mat = gs.reshape(3, f.shape[0]).T\n",
    "\n",
    "p = mp.plot(v, f, uv=uv, shading={\"wireframe\": True})\n",
    "p.add_lines(B, B + Gs_mat*avg, shading={\"line_color\": \"cyan\"})\n",
    "\n",
    "#here we can see the distoriotion!\n",
    "p_distortion= mp.plot(uv, f, uv=uv, shading={\"wireframe\": True})"
   ]
  },
  {
   "cell_type": "markdown",
   "metadata": {},
   "source": [
    "- To detect flipped faces, we compare the orientation of each triangle in the original 3D mesh and its corresponding representation in UV space. \n",
    "- Specifically, we compute the normal vector of each triangle using the cross product of its edge vectors.\n",
    "- In the UV plane, if the signed area, z in cross product, becomes negative it means the triangle's orientation is reversed indicating the flipped face.\n",
    "- Flipped triangle has had a rotation greater than 180 degrees, which breaks the correct surface orientation in parameterization\n"
   ]
  },
  {
   "cell_type": "code",
   "execution_count": 124,
   "metadata": {},
   "outputs": [
    {
     "data": {
      "application/vnd.jupyter.widget-view+json": {
       "model_id": "10c08434f2d84661a2d73f960f1f2bf6",
       "version_major": 2,
       "version_minor": 0
      },
      "text/plain": [
       "Renderer(camera=PerspectiveCamera(children=(DirectionalLight(color='white', intensity=0.6, position=(0.0, 0.0,…"
      ]
     },
     "metadata": {},
     "output_type": "display_data"
    },
    {
     "name": "stdout",
     "output_type": "stream",
     "text": [
      "ascii dump of the flipped indices! [0, 1, 2, 3, 4, 5, 7, 8, 9, 10, 11, 12, 13, 14, 15, 16, 17, 18, 19, 20, 21, 22, 23, 24, 26, 27, 28, 29, 30, 31, 32, 33, 34, 35, 36, 37, 38, 39, 40, 41, 42, 43, 44, 45, 46, 47, 48, 49, 50, 51, 52, 53, 54, 55, 56, 57, 58, 59, 60, 61, 62, 63, 64, 65, 66, 67, 68, 69, 70, 72, 73, 74, 75, 76, 77, 78, 79, 80, 81, 82, 83, 84, 85, 86, 90, 91, 95, 96, 97, 98, 99, 100, 101, 102, 103, 106, 107, 108, 109, 110, 111, 112, 113, 114, 115, 116, 117, 118, 119, 120, 121, 122, 123, 124, 125, 126, 127, 128, 129, 130, 131, 132, 133, 134, 135, 136, 137, 138, 139, 140, 141, 142, 143, 144, 145, 146, 147, 148, 149, 150, 151, 152, 153, 154, 155, 156, 157, 158, 159, 160, 161, 162, 163, 164, 165, 166, 167, 168, 169, 170, 171, 172, 173, 174, 175, 176, 177, 178, 179, 180, 181, 182, 183, 184, 185, 186, 187, 188, 189, 190, 191, 192, 193, 194, 195, 196, 197, 198, 199, 200, 201, 202, 203, 204, 205, 206, 207, 208, 209, 210, 211, 212, 213, 214, 215, 216, 217, 218, 219, 220, 221, 222, 223, 224, 225, 226, 227, 228, 229, 230, 231, 232, 233, 234, 235, 236, 237, 238, 239, 240, 241, 242, 243, 244, 245, 246, 247, 248, 249, 250, 251, 252, 253, 254, 255, 256, 257, 258, 259, 260, 261, 262, 263, 264, 265, 266, 267, 268, 269, 270, 271, 272, 273, 274, 275, 276, 277, 278, 279, 280, 281, 282, 283, 284, 285, 286, 287, 288, 289, 290, 291, 292, 293, 294, 295, 296, 297, 298, 299, 300, 301, 303, 305, 306, 307, 313, 318, 320, 321, 322, 324, 325, 326, 327, 328, 329, 330, 331, 332, 334, 335, 336, 337, 338, 339, 340, 341, 342, 343, 344, 345, 346, 347, 348, 349, 350, 351, 352, 353, 354, 355, 356, 357, 358, 359, 360, 361, 362, 363, 364, 365, 366, 367, 368, 369, 370, 371, 372, 373, 374, 375, 376, 377, 378, 379, 380, 381, 382, 383, 384, 385, 386, 387, 388, 389, 390, 391, 392, 393, 394, 395, 396, 397, 398, 399, 400, 401, 402, 403, 404, 405, 406, 407, 408, 409, 410, 411, 412, 413, 414, 415, 416, 417, 418, 419, 420, 421, 422, 423, 424, 425, 426, 427, 428, 429, 430, 431, 432, 433, 434, 435, 436, 437, 438, 439, 440, 441, 442, 443, 444, 445, 446, 447, 448, 449, 450, 451, 452, 453, 454, 455, 456, 457, 458, 459, 460, 461, 462, 463, 464, 465, 466, 467, 468, 469, 470, 471, 472, 473, 474, 475, 476, 477, 478, 479, 480, 481, 482, 483, 484, 485, 486, 487, 488, 489, 490, 491, 492, 493, 494, 495, 496, 497, 498, 499, 500, 501, 502, 503, 504, 505, 506, 507, 508, 509, 510, 511, 512, 513, 514, 515, 516, 517, 518, 519, 520, 521, 522, 523, 524, 530, 531, 532, 533, 534, 535, 536, 538, 539, 541, 542, 543, 544, 545, 546, 549, 550, 551, 552, 553, 554, 555, 556, 557, 558, 559, 560, 561, 562, 563, 564, 566, 569, 570, 571, 572, 573, 574, 575, 576, 577, 578, 579, 580, 581, 582, 583, 584, 585, 586, 587, 588, 589, 590, 591, 592, 593, 594, 595, 596, 597, 598, 599, 600, 601, 602, 603, 604, 605, 606, 607, 608, 609, 610, 611, 612, 613, 614, 615, 616, 617, 618, 619, 620, 621, 622, 623, 624, 625, 626, 627, 628, 629, 630, 631, 632, 633, 634, 635, 636, 639, 641, 642, 643, 665, 666, 667, 668, 671, 672, 673, 674, 675, 676, 677, 678, 679, 680, 681, 682, 683, 684, 685, 686, 687, 688, 689, 690, 691, 692, 693, 694, 695, 696, 697, 698, 699, 700, 701, 702, 703, 704, 705, 706, 707, 708, 709, 710, 711, 712, 713, 714, 715, 716, 717, 718, 719, 720, 721, 722, 723, 724, 725, 726, 727, 728, 729, 730, 731, 732, 733, 734, 735, 736, 737, 738, 739, 746, 747, 748, 749, 750, 751, 752, 753, 754, 755]\n"
     ]
    }
   ],
   "source": [
    "def detect_flipped_faces(v, f, uv):\n",
    "    flipped_faces = []\n",
    "    for i, face in enumerate(f):\n",
    "        #vertices and edges per face\n",
    "        x1, x2, x3 = v[face]\n",
    "        e1= x2- x1\n",
    "        e2 = x3- x1\n",
    "        normal = np.cross(e1, e2) #ORIGINAL NORMAL\n",
    "\n",
    "        # UV coordinates \n",
    "        uv1, uv2, uv3 = uv[face]\n",
    "        e1_uv= np.append(uv2 - uv1, 0.0)\n",
    "        e2_uv= np.append(uv3 - uv1, 0.0)\n",
    "        normal_uv = np.cross(e1_uv, e2_uv)\n",
    "\n",
    "        # IMPORTANT: COMPUTE ANGLE BETWEEN NORMALS\n",
    "        dot = np.dot(normal, normal_uv)\n",
    "        norm_product = np.linalg.norm(normal) * np.linalg.norm(normal_uv)\n",
    "        angle = np.arccos(np.clip(dot / norm_product, -1.0, 1.0))\n",
    "        \n",
    "        if angle > np.pi / 2: #180 degrees\n",
    "            flipped_faces.append(i)\n",
    "\n",
    "    return flipped_faces\n",
    "\n",
    "\n",
    "flipped = detect_flipped_faces(v, f, uv)\n",
    "col = np.zeros_like(f)\n",
    "col[flipped] =1\n",
    "p = mp.plot(v, f, c=col, shading={\"wireframe\": True})\n",
    "print('ascii dump of the flipped indices!', flipped)\n"
   ]
  }
 ],
 "metadata": {
  "kernelspec": {
   "display_name": "Python 3 (ipykernel)",
   "language": "python",
   "name": "python3"
  },
  "language_info": {
   "codemirror_mode": {
    "name": "ipython",
    "version": 3
   },
   "file_extension": ".py",
   "mimetype": "text/x-python",
   "name": "python",
   "nbconvert_exporter": "python",
   "pygments_lexer": "ipython3",
   "version": "3.11.5"
  }
 },
 "nbformat": 4,
 "nbformat_minor": 4
}

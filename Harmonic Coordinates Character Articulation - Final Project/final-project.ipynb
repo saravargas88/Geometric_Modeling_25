{
 "cells": [
  {
   "cell_type": "markdown",
   "id": "00171cba-2a4c-47f0-998f-9987e82074d1",
   "metadata": {},
   "source": [
    "# FINAL PROJECT: HARMONIC COORDINATES FOR SPATIAL MESH EDITING\n"
   ]
  },
  {
   "cell_type": "code",
   "execution_count": 17,
   "id": "b2b9ced4-2215-4074-a765-09e2eaa374d6",
   "metadata": {},
   "outputs": [],
   "source": [
    "import numpy as np\n",
    "import scipy.sparse as sp\n",
    "import scipy.sparse.linalg\n",
    "import igl\n",
    "import triangle as tr\n",
    "import ipywidgets as iw\n",
    "import time\n",
    "import meshplot as mp\n",
    "\n",
    "class HarmonicDeformer:\n",
    "    #class to interactively move a ed object by moving a boundary cage!\n",
    "    #we precompute harmonic weights of the cage points before defomrs\n",
    "    #apply new cage points to defomr\n",
    "    def __init__(self, cage_v, cage_f, cage_before_triangulation):\n",
    "        \"\"\"\n",
    "        Parameters:\n",
    "        - cage_v: array of triangulated cage vertex positions (boundary + interior)\n",
    "        - cage_f: array of triangle face indices to cage v\n",
    "        - cage_before_triangulation: (K, 2) original cage (before triangulation)\n",
    "\n",
    "        Storing: \n",
    "        - cage handles (boundary vs)\n",
    "        - number of handle vertices\n",
    "        - harmonic_basis: to once computed store harmonic weights\n",
    "        \"\"\"\n",
    "        self.cage_v = cage_v\n",
    "        self.cage_f = cage_f\n",
    "        self.cage_handle_indices = np.arange(cage_before_triangulation.shape[0])\n",
    "        \n",
    "        self.num_vertices = cage_v.shape[0]\n",
    "        self.cage_indicis_total= np.arange(self.num_vertices)\n",
    "        \n",
    "        \n",
    "        self.num_boundary = len(self.cage_handle_indices)\n",
    "        self.harmonic_basis = None \n",
    "\n",
    "    def precompute_weights(self):\n",
    "        '''\n",
    "        COMPUTES THE HARMONIC BASIS FUNCTION for the cage\n",
    "\n",
    "        We want to solve a Laplace equation: Δphi= 0 over the cage where phi is a scalar function. \n",
    "        This is the harmonic functions and we discretize them into a linear system using: \n",
    "        - L : cotan weight laplacian matrix \n",
    "        - M: mass matrix\n",
    "\n",
    "        we then solve A = M_inv @ L --> A @ (PHI_MATRIX) = 0\n",
    "\n",
    "        - partition A into constrained (cage boundary) points and free (interior cage) points\n",
    "\n",
    "        Boils down to : Afc @ phi_constrained + Aff @ phi_free =0\n",
    "        FINALLY HARMONIC BASIS: \n",
    "\n",
    "        solve for phi_free!  Aff @ phi_f = - Afc @ phi_c  \n",
    "                                   |----|\n",
    "                                     x \n",
    "        Then stack phi_constrained and phi_interior to get the Harmonic basis for the cage points. \n",
    "        '''\n",
    "        boundary_idx = self.cage_handle_indices\n",
    "        interior_idx = np.setdiff1d(self.cage_indicis_total, boundary_idx)\n",
    "        \n",
    "        L = igl.cotmatrix(self.cage_v, self.cage_f)\n",
    "        M = igl.massmatrix(self.cage_v, self.cage_f, igl.MASSMATRIX_TYPE_VORONOI)\n",
    "        Minv = sp.diags(1.0 / M.diagonal())\n",
    "        A = Minv @ L\n",
    "\n",
    "        Aff = A[interior_idx, :][:, interior_idx]\n",
    "        Afc = A[interior_idx, :][:, boundary_idx]\n",
    "\n",
    "        phi_c = np.eye(self.num_boundary)\n",
    "        rhs = -Afc @ phi_c\n",
    "        phi_f = sp.linalg.spsolve(Aff, rhs)\n",
    "\n",
    "\n",
    "        PHI = np.zeros((self.num_vertices, self.num_boundary))\n",
    "        PHI[boundary_idx, :] = phi_c\n",
    "        PHI[interior_idx, :] = phi_f\n",
    "\n",
    "        self.harmonic_basis = PHI\n",
    "        '''HARMONIC BASIS IS SIZE: VERTICES BY BOUNDARY VERTICES: \n",
    "        - EACH ROW CORRESPONDS TO A VERTEX IN THE TRIANGULATED CAGE\n",
    "        - EACH COLUMN CORRECPONDS TO HARMONIC BASIS FUNCTION \n",
    "                - 1 AT BOUNDARY Vi  \n",
    "                - 0 AT ALL OTHER BOUNDARY Vs \n",
    "                - SMOOTH ELSEWHERE           '''\n",
    "\n",
    "        print(\" Harmonic basis computed. Shape:\", PHI.shape)\n",
    "\n",
    "    def deform(self, new_cage_positions):\n",
    "        '''\n",
    "        Given new positions for cage boundary vertices the function computes \n",
    "        DEFORMED POSITIONS of all cage vertices (boundary and interior vertices)  \n",
    "        based on precomputed harmonic basis\n",
    "        '''\n",
    "        return self.harmonic_basis @ new_cage_positions\n",
    "\n",
    "\n",
    "    def compute_weights_for_mesh(self, object_vertices):\n",
    "        '''\n",
    "        Compute HARMONIC COORDINATES for the set of object vertices \n",
    "        - HOW EACH OBJECT VERTEX can be expressed as a combination of boundary cage vertices\n",
    "          using BARYCENTRIC INTERPOLATION over the harmonic basis function\n",
    "        '''\n",
    "        num_obj_v = object_vertices.shape[0]\n",
    "        num_basis = self.harmonic_basis.shape[1]\n",
    "        print('num of basis' , num_basis, 'and num of obj_v',num_obj_v )\n",
    "\n",
    "        #weights: each row i holds HARMONIC COORD VECTOR FOR OBJECT POINT I (pi)\n",
    "        weights = np.zeros((num_obj_v, num_basis))\n",
    "        \n",
    "\n",
    "        for i in range(num_obj_v): \n",
    "            #for each mesh vertex: \n",
    "        \n",
    "            p = object_vertices[i]\n",
    "            #express the mesh vertex by a barycentric coordinate of a cage triangle. \n",
    "            \n",
    "            #loop through all the CAGE TRIANGLED \n",
    "            #to find th etriangle containing point p \n",
    "            for tri in self.cage_f:\n",
    "                \n",
    "                #a,b,c are the vertices in that face \n",
    "                a= self.cage_v[tri[0], :2]\n",
    "                b= self.cage_v[tri[1], :2]\n",
    "                c= self.cage_v[tri[2], :2]\n",
    "                \n",
    "                #if p is in triangle abc barycentric coords returned\n",
    "                bary = barycentric_coordinates(p, a, b, c)\n",
    "                \n",
    "                if bary is not None:\n",
    "                    #baricentric coordinates found : \n",
    "                    #INTERPOLATE harmonic coordinate vector from:\n",
    "                        #harmonic basis\n",
    "                        #barycentric coefficients\n",
    "                    \n",
    "                    u, v, w = bary\n",
    "                    phi_a = self.harmonic_basis[tri[0], :]\n",
    "                    phi_b = self.harmonic_basis[tri[1], :]\n",
    "                    phi_c = self.harmonic_basis[tri[2], :]\n",
    "                    \n",
    "                    #HARMONIC COORD FOR MESHPOINT Pi\n",
    "                    weights[i, :] = u * phi_a + v * phi_b + w * phi_c\n",
    "                    \n",
    "                    break\n",
    "        return weights\n",
    "\n",
    "\n",
    "\"\"\"HELPER FUNCTIONS\"\"\"\n",
    "\n",
    "def barycentric_coordinates(p, a, b, c):\n",
    "    '''\n",
    "    we use barycentric coordinates u,v,w to interpolate harmonic basis values \n",
    "    fro the triangles three vertices to point p \n",
    "\n",
    "    each mesh point p gets a harmonic coordinate vector (weights for each cage handle)\n",
    "    '''\n",
    "    def area(p1, p2, p3):\n",
    "        return 0.5 * np.linalg.det(np.array([\n",
    "            [p2[0] - p1[0], p2[1] - p1[1]],\n",
    "            [p3[0] - p1[0], p3[1] - p1[1]]\n",
    "        ]))\n",
    "\n",
    "    total_area = area(a, b, c)\n",
    "    \n",
    "    if np.isclose(total_area, 0.0):\n",
    "        return None\n",
    "\n",
    "    u = area(p, b, c)/ total_area\n",
    "    v = area(p, c, a)/ total_area\n",
    "    w = area(p, a, b)/ total_area\n",
    "\n",
    "    if u< 0 or v< 0 or w< 0:\n",
    "        return None\n",
    "\n",
    "    return np.array([u, v, w])\n",
    "\n",
    "def build_edges_loop(coords):\n",
    "    n = len(coords)\n",
    "    return np.array([[i, (i + 1) % n] for i in range(n)])\n"
   ]
  },
  {
   "cell_type": "markdown",
   "id": "6b6a6fcf-91cf-4d3e-9969-d2310476b228",
   "metadata": {},
   "source": [
    "### Step 1: from my character make a cage and triangulate the cage\n",
    "- this triangulation is necessary to later distribute the weight eachh cage point has on the points of the object mesh.\n",
    "\n"
   ]
  },
  {
   "cell_type": "code",
   "execution_count": 18,
   "id": "eace12e9-e4d6-4c96-95b6-519dd9a8a438",
   "metadata": {},
   "outputs": [
    {
     "data": {
      "application/vnd.jupyter.widget-view+json": {
       "model_id": "496048767271498c8d44a8b3e7b5f645",
       "version_major": 2,
       "version_minor": 0
      },
      "text/plain": [
       "Renderer(camera=PerspectiveCamera(children=(DirectionalLight(color='white', intensity=0.6, position=(0.4304474…"
      ]
     },
     "metadata": {},
     "output_type": "display_data"
    },
    {
     "data": {
      "text/plain": [
       "<meshplot.Viewer.Viewer at 0x12d4b3a50>"
      ]
     },
     "execution_count": 18,
     "metadata": {},
     "output_type": "execute_result"
    }
   ],
   "source": [
    "v, f = igl.read_triangle_mesh(\"data/woody-hi.off\")\n",
    "v_2d = v[:, :2]\n",
    "v_2d -= v_2d.min(axis=0)\n",
    "v_2d /= v_2d.max()\n",
    "\n",
    "cage = np.load(\"data/woody-hi.cage.npy\")\n",
    "if np.allclose(cage[0], cage[-1]):\n",
    "    cage = cage[:-1]  # Ensure open loop\n",
    "\n",
    "#TRIANGULATE CAGE:\n",
    "cage_dict = {\"vertices\": cage, \"segments\": build_edges_loop(cage)}\n",
    "cage_tri = tr.triangulate(cage_dict, 'pq30a0.01')  \n",
    "\n",
    "cage_v = np.hstack((cage_tri['vertices'], np.zeros((len(cage_tri['vertices']), 1))))\n",
    "cage_f = cage_tri['triangles']\n",
    "\n",
    "mp.plot(cage_v, cage_f, shading={\"wireframe\": True, \"line_color\": \"black\"})\n"
   ]
  },
  {
   "cell_type": "code",
   "execution_count": null,
   "id": "f3df8f57-b18f-4233-ae33-f9c2b4958445",
   "metadata": {},
   "outputs": [],
   "source": []
  },
  {
   "cell_type": "markdown",
   "id": "42198111-1940-4531-8e69-7ab1d682f9f0",
   "metadata": {},
   "source": [
    "### Step 2: Compute the harmonic weights \n",
    "- using the Harmonic Deformer class we compute the harmonic weights of cage points to the interior poiints of the cage.\n",
    "- These weights will dictate how the change in a cage point will modeify the point in the mesh\n"
   ]
  },
  {
   "cell_type": "code",
   "execution_count": 19,
   "id": "a7acf243-3e9f-4200-b023-6b6a15168572",
   "metadata": {},
   "outputs": [
    {
     "name": "stdout",
     "output_type": "stream",
     "text": [
      " Harmonic basis computed. Shape: (81, 27)\n",
      "num of basis 27 and num of obj_v 2642\n"
     ]
    }
   ],
   "source": [
    "\n",
    "# initialize harmonic deformer with full triangulated cage\n",
    "deformer = HarmonicDeformer(cage_v, cage_f, cage)\n",
    "deformer.precompute_weights()\n",
    "\n",
    "# compute weight matrix for object vertices (harmonic coords)\n",
    "hc = deformer.compute_weights_for_mesh(v_2d)\n",
    "\n"
   ]
  },
  {
   "cell_type": "markdown",
   "id": "806d089b-6b23-4712-8df8-cdd532a9b304",
   "metadata": {},
   "source": [
    "## Visualize"
   ]
  },
  {
   "cell_type": "code",
   "execution_count": 20,
   "id": "eed8ee7b-d530-4027-97cc-8b608f0a6319",
   "metadata": {},
   "outputs": [
    {
     "data": {
      "application/vnd.jupyter.widget-view+json": {
       "model_id": "1e1511c1436345c0a921759a2b772e98",
       "version_major": 2,
       "version_minor": 0
      },
      "text/plain": [
       "Renderer(camera=PerspectiveCamera(children=(DirectionalLight(color='white', intensity=0.6, position=(0.4306930…"
      ]
     },
     "metadata": {},
     "output_type": "display_data"
    },
    {
     "data": {
      "application/vnd.jupyter.widget-view+json": {
       "model_id": "dceabef9b0ab42f7a6bf05868732a7cf",
       "version_major": 2,
       "version_minor": 0
      },
      "text/plain": [
       "interactive(children=(SelectMultiple(description='Cage Vertices', options=(0, 1, 2, 3, 4, 5, 6, 7, 8, 9, 10, 1…"
      ]
     },
     "metadata": {},
     "output_type": "display_data"
    },
    {
     "data": {
      "text/plain": [
       "<function __main__.pos_f(selected_vertices, x, y, z)>"
      ]
     },
     "execution_count": 20,
     "metadata": {},
     "output_type": "execute_result"
    }
   ],
   "source": [
    "import numpy as np\n",
    "import ipywidgets as iw\n",
    "import meshplot as mp\n",
    "import time\n",
    "\n",
    "\n",
    "cage_v_copy = cage_v.copy()\n",
    "v_copy = v.copy()\n",
    "num_cage_boundary_v = len(cage)\n",
    "\n",
    "p = mp.plot(v_copy, f, return_plot=True)\n",
    "edges = np.array([[i, (i + 1) % num_cage_boundary_v] for i in range(num_cage_boundary_v)])\n",
    "point_oid = p.add_points(cage, shading={\"point_color\": \"green\", \"point_size\": 0.1})\n",
    "line_oid = p.add_lines(cage[edges[:, 0]], cage[edges[:, 1]])\n",
    "\n",
    "\n",
    "def position_deformer(updated_cage_boundary):\n",
    "    return hc @ updated_cage_boundary\n",
    "\n",
    "\n",
    "def pos_f(selected_vertices, x, y, z):\n",
    "    global point_oid, line_oid\n",
    "    t0 = time.time()\n",
    "\n",
    "\n",
    "    cage_v_copy[:] = cage_v\n",
    "    offset = np.array([x, y, z])\n",
    "    cage_v_copy[selected_vertices] += offset\n",
    "\n",
    "    new_cage_boundary = cage_v_copy[:num_cage_boundary_v]\n",
    "    v_deformed = pos_f.deformer(new_cage_boundary)\n",
    "\n",
    "    p.remove_object(point_oid)\n",
    "    p.remove_object(line_oid)\n",
    "    color = np.zeros(num_cage_boundary_v)\n",
    "    color[selected_vertices] = 1\n",
    "    point_oid = p.add_points(new_cage_boundary, c=color, shading={\"point_size\": 0.1})\n",
    "    line_oid = p.add_lines(new_cage_boundary[edges[:, 0]], new_cage_boundary[edges[:, 1]])\n",
    "\n",
    "    p.update_object(oid=0, vertices=v_deformed)\n",
    "    print(\"FPS:\", 1 / (time.time() - t0))\n",
    "\n",
    "pos_f.deformer = position_deformer\n",
    "\n",
    "\n",
    "def widgets_wrapper():\n",
    "    select = iw.SelectMultiple(\n",
    "        options=np.arange(num_cage_boundary_v),\n",
    "        rows=10,\n",
    "        description=\"Cage Vertices\"\n",
    "    )\n",
    "    sliders = {a: iw.FloatSlider(min=-1, max=1, step=0.01, value=0, description=a) for a in \"xyz\"}\n",
    "    return dict(selected_vertices=select, **sliders)\n",
    "\n",
    "\n",
    "iw.interact(pos_f, **widgets_wrapper())\n"
   ]
  }
 ],
 "metadata": {
  "kernelspec": {
   "display_name": "Python 3 (ipykernel)",
   "language": "python",
   "name": "python3"
  },
  "language_info": {
   "codemirror_mode": {
    "name": "ipython",
    "version": 3
   },
   "file_extension": ".py",
   "mimetype": "text/x-python",
   "name": "python",
   "nbconvert_exporter": "python",
   "pygments_lexer": "ipython3",
   "version": "3.11.5"
  }
 },
 "nbformat": 4,
 "nbformat_minor": 5
}
